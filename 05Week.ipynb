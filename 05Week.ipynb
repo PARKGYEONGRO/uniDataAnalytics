{
 "cells": [
  {
   "cell_type": "markdown",
   "id": "deab6226-4a08-44fd-a862-82123b88f5ce",
   "metadata": {},
   "source": [
    "# 05Week 수업"
   ]
  },
  {
   "cell_type": "markdown",
   "id": "b7fab9dd-07f2-4c53-94da-a53682aee645",
   "metadata": {},
   "source": [
    "#### 데이터프레임"
   ]
  },
  {
   "cell_type": "code",
   "execution_count": 3,
   "id": "21c4f443-cb66-4fc6-ab4a-696c21e7df77",
   "metadata": {},
   "outputs": [
    {
     "name": "stdout",
     "output_type": "stream",
     "text": [
      "Requirement already satisfied: pandas in c:\\users\\hoseo\\anaconda3\\lib\\site-packages (1.5.3)\n",
      "Requirement already satisfied: pytz>=2020.1 in c:\\users\\hoseo\\anaconda3\\lib\\site-packages (from pandas) (2022.7)\n",
      "Requirement already satisfied: numpy>=1.21.0 in c:\\users\\hoseo\\anaconda3\\lib\\site-packages (from pandas) (1.23.5)\n",
      "Requirement already satisfied: python-dateutil>=2.8.1 in c:\\users\\hoseo\\anaconda3\\lib\\site-packages (from pandas) (2.8.2)\n",
      "Requirement already satisfied: six>=1.5 in c:\\users\\hoseo\\anaconda3\\lib\\site-packages (from python-dateutil>=2.8.1->pandas) (1.16.0)\n",
      "Note: you may need to restart the kernel to use updated packages.\n"
     ]
    }
   ],
   "source": [
    "pip install pandas"
   ]
  },
  {
   "cell_type": "code",
   "execution_count": 11,
   "id": "9e888a5e-f682-4541-b1a1-c8c25c770301",
   "metadata": {},
   "outputs": [
    {
     "name": "stdout",
     "output_type": "stream",
     "text": [
      "  name english math\n",
      "0  김모씨      99   99\n",
      "1  이모씨      80   80\n",
      "2  박모씨      60   60\n",
      "3  강모씨      70   70\n"
     ]
    }
   ],
   "source": [
    "import pandas as pd\n",
    "df = pd.DataFrame({'name' : ['김모씨', '이모씨', '박모씨', '강모씨'],\n",
    "                  'english' : ['99', '80', '60', '70'],\n",
    "                  'math' : ['99', '80', '60', '70']})\n",
    "\n",
    "print(df)"
   ]
  },
  {
   "cell_type": "code",
   "execution_count": 38,
   "id": "44136956-b2dc-4f2e-b686-8434f59a46a6",
   "metadata": {},
   "outputs": [
    {
     "name": "stdout",
     "output_type": "stream",
     "text": [
      "   제품    가격  판매량\n",
      "0  사과  1800   24\n",
      "1  딸기  1800   38\n",
      "2  수박  3000   13\n",
      "가격 평균: 2200.0\n",
      "판매량 평균: 25.0\n"
     ]
    }
   ],
   "source": [
    "df2 = pd.DataFrame({'제품' : ['사과', '딸기', '수박'],\n",
    "                   '가격' : [1800, 1800, 3000],\n",
    "                   '판매량' : [24, 38, 13]})\n",
    "print(df2)\n",
    "\n",
    "print(f'가격 평균: {df2[\"가격\"].mean()}')\n",
    "print(f'판매량 평균: {df2[\"판매량\"].mean()}')"
   ]
  },
  {
   "cell_type": "markdown",
   "id": "9d4b26ba-e000-46d9-b899-043b8c7031f4",
   "metadata": {},
   "source": []
  },
  {
   "cell_type": "markdown",
   "id": "ee1d96bf-af68-4de7-adaa-9d87c4958ab8",
   "metadata": {},
   "source": [
    "#### 엑셀 파일 불러오기"
   ]
  },
  {
   "cell_type": "code",
   "execution_count": 49,
   "id": "d63b5d43-9d1a-49a1-8b4e-114d7fe03eda",
   "metadata": {},
   "outputs": [
    {
     "name": "stdout",
     "output_type": "stream",
     "text": [
      "    id  nclass  math  english  science\n",
      "0    1       1    50       98       50\n",
      "1    2       1    60       97       60\n",
      "2    3       1    45       86       78\n",
      "3    4       1    30       98       58\n",
      "4    5       2    25       80       65\n",
      "5    6       2    50       89       98\n",
      "6    7       2    80       90       45\n",
      "7    8       2    90       78       25\n",
      "8    9       3    20       98       15\n",
      "9   10       3    50       98       45\n",
      "10  11       3    65       65       65\n",
      "11  12       3    45       85       32\n",
      "12  13       4    46       98       65\n",
      "13  14       4    48       87       12\n",
      "14  15       4    75       56       78\n",
      "15  16       4    58       98       65\n",
      "16  17       5    65       68       98\n",
      "17  18       5    80       78       90\n",
      "18  19       5    89       68       87\n",
      "19  20       5    78       83       58\n"
     ]
    }
   ],
   "source": [
    "dfExam = pd.read_excel('excel_exam.xlsx')\n",
    "print(dfExam)"
   ]
  },
  {
   "cell_type": "code",
   "execution_count": 57,
   "id": "3fd22798-da9e-4c68-8b2a-d15068e72b3f",
   "metadata": {},
   "outputs": [
    {
     "name": "stdout",
     "output_type": "stream",
     "text": [
      "1698\n",
      "1698\n"
     ]
    }
   ],
   "source": [
    "# 사칙연산 두가지 출력방법\n",
    "print(sum(dfExam['english']))\n",
    "\n",
    "print(dfExam['english'].sum())"
   ]
  },
  {
   "cell_type": "code",
   "execution_count": 62,
   "id": "fbc47288-f73e-4188-951c-96b0c5a560e4",
   "metadata": {},
   "outputs": [
    {
     "name": "stdout",
     "output_type": "stream",
     "text": [
      "59.45\n"
     ]
    }
   ],
   "source": [
    "print(dfExam['science'].mean())"
   ]
  },
  {
   "cell_type": "code",
   "execution_count": 61,
   "id": "7ac447fa-52aa-4515-a6b4-beacffadcec5",
   "metadata": {},
   "outputs": [
    {
     "name": "stdout",
     "output_type": "stream",
     "text": [
      "57.45\n"
     ]
    }
   ],
   "source": [
    "print(dfExam['math'].mean())"
   ]
  },
  {
   "cell_type": "code",
   "execution_count": 64,
   "id": "7363f6db-46d7-457d-b50c-ddb209235129",
   "metadata": {},
   "outputs": [
    {
     "data": {
      "text/plain": [
       "20"
      ]
     },
     "execution_count": 64,
     "metadata": {},
     "output_type": "execute_result"
    }
   ],
   "source": [
    "len(dfExam)"
   ]
  },
  {
   "cell_type": "code",
   "execution_count": null,
   "id": "8b9ebe5e-bb44-4887-9458-373c9ea9e79b",
   "metadata": {},
   "outputs": [],
   "source": []
  },
  {
   "cell_type": "code",
   "execution_count": null,
   "id": "7b7fa51b-275b-45cd-9e52-2db12c992dd7",
   "metadata": {},
   "outputs": [],
   "source": []
  },
  {
   "cell_type": "code",
   "execution_count": null,
   "id": "6631c090-4769-4f9c-8e99-124dc1799bbf",
   "metadata": {},
   "outputs": [],
   "source": []
  },
  {
   "cell_type": "code",
   "execution_count": null,
   "id": "3ed087e4-f968-43cf-b1e6-41d5032eb94f",
   "metadata": {},
   "outputs": [],
   "source": []
  },
  {
   "cell_type": "code",
   "execution_count": null,
   "id": "da31af4e-9da9-4593-97ae-c11e38bb77b0",
   "metadata": {},
   "outputs": [],
   "source": []
  },
  {
   "cell_type": "code",
   "execution_count": null,
   "id": "153eb300-3832-4d93-9a1e-cdb970093e72",
   "metadata": {},
   "outputs": [],
   "source": []
  },
  {
   "cell_type": "code",
   "execution_count": null,
   "id": "ae8fc989-78c8-42f8-8dbf-b04466afe7cc",
   "metadata": {},
   "outputs": [],
   "source": []
  }
 ],
 "metadata": {
  "kernelspec": {
   "display_name": "Python 3 (ipykernel)",
   "language": "python",
   "name": "python3"
  },
  "language_info": {
   "codemirror_mode": {
    "name": "ipython",
    "version": 3
   },
   "file_extension": ".py",
   "mimetype": "text/x-python",
   "name": "python",
   "nbconvert_exporter": "python",
   "pygments_lexer": "ipython3",
   "version": "3.10.9"
  }
 },
 "nbformat": 4,
 "nbformat_minor": 5
}
